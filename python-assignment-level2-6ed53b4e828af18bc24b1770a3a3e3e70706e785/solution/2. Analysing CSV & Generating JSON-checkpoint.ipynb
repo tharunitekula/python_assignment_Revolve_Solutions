{
 "cells": [
  {
   "cell_type": "markdown",
   "metadata": {},
   "source": [
    "# We Will Generate Final Required JSON File Here"
   ]
  },
  {
   "cell_type": "markdown",
   "metadata": {},
   "source": [
    "## Requirement : \n",
    "\n",
    "Customer Shopping Patterns :\n",
    "The task involves developing a data pipeline to complete the user story above using sample data sources that will be provided.\n",
    "\n",
    "Our client is a major high street retailer that handles millions of transactions each day. Their data science team has reached out to our data engineering team >requesting we pre-process some of the data for them at scale so that they can make better use of it in their downstream algorithms. They would like us to deliver >this data weekly."
   ]
  },
  {
   "cell_type": "markdown",
   "metadata": {},
   "source": [
    "### Importing Libraries"
   ]
  },
  {
   "cell_type": "code",
   "execution_count": 1,
   "metadata": {},
   "outputs": [],
   "source": [
    "import os\n",
    "import pandas as pd"
   ]
  },
  {
   "cell_type": "markdown",
   "metadata": {},
   "source": [
    "### Checking Current Working Directory"
   ]
  },
  {
   "cell_type": "code",
   "execution_count": 2,
   "metadata": {},
   "outputs": [
    {
     "data": {
      "text/plain": [
       "'C:\\\\Users\\\\harsh\\\\Desktop\\\\python-assignment-level2-6ed53b4e828af18bc24b1770a3a3e3e70706e785'"
      ]
     },
     "execution_count": 2,
     "metadata": {},
     "output_type": "execute_result"
    }
   ],
   "source": [
    "cwd = os.getcwd()\n",
    "cwd"
   ]
  },
  {
   "cell_type": "markdown",
   "metadata": {},
   "source": [
    "### Reading the Data From FinalCustomersData CSV File"
   ]
  },
  {
   "cell_type": "code",
   "execution_count": 3,
   "metadata": {},
   "outputs": [],
   "source": [
    "final_df_analyse = pd.read_csv('./1.Full_Customer_Data.csv')"
   ]
  },
  {
   "cell_type": "code",
   "execution_count": 4,
   "metadata": {},
   "outputs": [
    {
     "data": {
      "text/html": [
       "<div>\n",
       "<style scoped>\n",
       "    .dataframe tbody tr th:only-of-type {\n",
       "        vertical-align: middle;\n",
       "    }\n",
       "\n",
       "    .dataframe tbody tr th {\n",
       "        vertical-align: top;\n",
       "    }\n",
       "\n",
       "    .dataframe thead th {\n",
       "        text-align: right;\n",
       "    }\n",
       "</style>\n",
       "<table border=\"1\" class=\"dataframe\">\n",
       "  <thead>\n",
       "    <tr style=\"text-align: right;\">\n",
       "      <th></th>\n",
       "      <th>customer_id</th>\n",
       "      <th>loyalty_score</th>\n",
       "      <th>product_id</th>\n",
       "      <th>product_description</th>\n",
       "      <th>product_category</th>\n",
       "      <th>basket</th>\n",
       "      <th>date_of_purchase</th>\n",
       "    </tr>\n",
       "  </thead>\n",
       "  <tbody>\n",
       "    <tr>\n",
       "      <th>0</th>\n",
       "      <td>C1</td>\n",
       "      <td>7.0</td>\n",
       "      <td>NaN</td>\n",
       "      <td>NaN</td>\n",
       "      <td>NaN</td>\n",
       "      <td>NaN</td>\n",
       "      <td>NaN</td>\n",
       "    </tr>\n",
       "    <tr>\n",
       "      <th>1</th>\n",
       "      <td>C2</td>\n",
       "      <td>4.0</td>\n",
       "      <td>NaN</td>\n",
       "      <td>NaN</td>\n",
       "      <td>NaN</td>\n",
       "      <td>NaN</td>\n",
       "      <td>NaN</td>\n",
       "    </tr>\n",
       "    <tr>\n",
       "      <th>2</th>\n",
       "      <td>C3</td>\n",
       "      <td>8.0</td>\n",
       "      <td>NaN</td>\n",
       "      <td>NaN</td>\n",
       "      <td>NaN</td>\n",
       "      <td>NaN</td>\n",
       "      <td>NaN</td>\n",
       "    </tr>\n",
       "    <tr>\n",
       "      <th>3</th>\n",
       "      <td>C4</td>\n",
       "      <td>5.0</td>\n",
       "      <td>NaN</td>\n",
       "      <td>NaN</td>\n",
       "      <td>NaN</td>\n",
       "      <td>NaN</td>\n",
       "      <td>NaN</td>\n",
       "    </tr>\n",
       "    <tr>\n",
       "      <th>4</th>\n",
       "      <td>C5</td>\n",
       "      <td>7.0</td>\n",
       "      <td>NaN</td>\n",
       "      <td>NaN</td>\n",
       "      <td>NaN</td>\n",
       "      <td>NaN</td>\n",
       "      <td>NaN</td>\n",
       "    </tr>\n",
       "  </tbody>\n",
       "</table>\n",
       "</div>"
      ],
      "text/plain": [
       "  customer_id  loyalty_score product_id product_description product_category  \\\n",
       "0          C1            7.0        NaN                 NaN              NaN   \n",
       "1          C2            4.0        NaN                 NaN              NaN   \n",
       "2          C3            8.0        NaN                 NaN              NaN   \n",
       "3          C4            5.0        NaN                 NaN              NaN   \n",
       "4          C5            7.0        NaN                 NaN              NaN   \n",
       "\n",
       "  basket date_of_purchase  \n",
       "0    NaN              NaN  \n",
       "1    NaN              NaN  \n",
       "2    NaN              NaN  \n",
       "3    NaN              NaN  \n",
       "4    NaN              NaN  "
      ]
     },
     "execution_count": 4,
     "metadata": {},
     "output_type": "execute_result"
    }
   ],
   "source": [
    "final_df_analyse.head()"
   ]
  },
  {
   "cell_type": "markdown",
   "metadata": {},
   "source": [
    "### Checking DataTypes"
   ]
  },
  {
   "cell_type": "code",
   "execution_count": 5,
   "metadata": {},
   "outputs": [
    {
     "data": {
      "text/plain": [
       "customer_id             object\n",
       "loyalty_score          float64\n",
       "product_id              object\n",
       "product_description     object\n",
       "product_category        object\n",
       "basket                  object\n",
       "date_of_purchase        object\n",
       "dtype: object"
      ]
     },
     "execution_count": 5,
     "metadata": {},
     "output_type": "execute_result"
    }
   ],
   "source": [
    "final_df_analyse.dtypes"
   ]
  },
  {
   "cell_type": "markdown",
   "metadata": {},
   "source": [
    "### Checking Null Values"
   ]
  },
  {
   "cell_type": "code",
   "execution_count": 6,
   "metadata": {},
   "outputs": [
    {
     "data": {
      "text/plain": [
       "customer_id             2.83\n",
       "loyalty_score          93.94\n",
       "product_id             97.17\n",
       "product_description    97.17\n",
       "product_category       97.17\n",
       "basket                  8.89\n",
       "date_of_purchase        8.89\n",
       "dtype: float64"
      ]
     },
     "execution_count": 6,
     "metadata": {},
     "output_type": "execute_result"
    }
   ],
   "source": [
    "round(100*(final_df_analyse.isnull().sum())/len(final_df_analyse), 2)"
   ]
  },
  {
   "cell_type": "markdown",
   "metadata": {},
   "source": [
    "### Treating NULL Values"
   ]
  },
  {
   "cell_type": "code",
   "execution_count": 7,
   "metadata": {
    "scrolled": true
   },
   "outputs": [
    {
     "data": {
      "text/html": [
       "<div>\n",
       "<style scoped>\n",
       "    .dataframe tbody tr th:only-of-type {\n",
       "        vertical-align: middle;\n",
       "    }\n",
       "\n",
       "    .dataframe tbody tr th {\n",
       "        vertical-align: top;\n",
       "    }\n",
       "\n",
       "    .dataframe thead th {\n",
       "        text-align: right;\n",
       "    }\n",
       "</style>\n",
       "<table border=\"1\" class=\"dataframe\">\n",
       "  <thead>\n",
       "    <tr style=\"text-align: right;\">\n",
       "      <th></th>\n",
       "      <th>customer_id</th>\n",
       "      <th>loyalty_score</th>\n",
       "      <th>product_id</th>\n",
       "      <th>product_description</th>\n",
       "      <th>product_category</th>\n",
       "      <th>basket</th>\n",
       "      <th>date_of_purchase</th>\n",
       "    </tr>\n",
       "  </thead>\n",
       "  <tbody>\n",
       "    <tr>\n",
       "      <th>0</th>\n",
       "      <td>C1</td>\n",
       "      <td>7.0</td>\n",
       "      <td>P01</td>\n",
       "      <td>detergent</td>\n",
       "      <td>food</td>\n",
       "      <td>[{'product_id': 'P33', 'price': 1839}]</td>\n",
       "      <td>2018-12-13 05:06:00</td>\n",
       "    </tr>\n",
       "    <tr>\n",
       "      <th>1</th>\n",
       "      <td>C2</td>\n",
       "      <td>4.0</td>\n",
       "      <td>P01</td>\n",
       "      <td>detergent</td>\n",
       "      <td>food</td>\n",
       "      <td>[{'product_id': 'P33', 'price': 1839}]</td>\n",
       "      <td>2018-12-13 05:06:00</td>\n",
       "    </tr>\n",
       "    <tr>\n",
       "      <th>2</th>\n",
       "      <td>C3</td>\n",
       "      <td>8.0</td>\n",
       "      <td>P01</td>\n",
       "      <td>detergent</td>\n",
       "      <td>food</td>\n",
       "      <td>[{'product_id': 'P33', 'price': 1839}]</td>\n",
       "      <td>2018-12-13 05:06:00</td>\n",
       "    </tr>\n",
       "    <tr>\n",
       "      <th>3</th>\n",
       "      <td>C4</td>\n",
       "      <td>5.0</td>\n",
       "      <td>P01</td>\n",
       "      <td>detergent</td>\n",
       "      <td>food</td>\n",
       "      <td>[{'product_id': 'P33', 'price': 1839}]</td>\n",
       "      <td>2018-12-13 05:06:00</td>\n",
       "    </tr>\n",
       "    <tr>\n",
       "      <th>4</th>\n",
       "      <td>C5</td>\n",
       "      <td>7.0</td>\n",
       "      <td>P01</td>\n",
       "      <td>detergent</td>\n",
       "      <td>food</td>\n",
       "      <td>[{'product_id': 'P33', 'price': 1839}]</td>\n",
       "      <td>2018-12-13 05:06:00</td>\n",
       "    </tr>\n",
       "    <tr>\n",
       "      <th>...</th>\n",
       "      <td>...</td>\n",
       "      <td>...</td>\n",
       "      <td>...</td>\n",
       "      <td>...</td>\n",
       "      <td>...</td>\n",
       "      <td>...</td>\n",
       "      <td>...</td>\n",
       "    </tr>\n",
       "    <tr>\n",
       "      <th>2257</th>\n",
       "      <td>C101</td>\n",
       "      <td>7.0</td>\n",
       "      <td>P01</td>\n",
       "      <td>detergent</td>\n",
       "      <td>food</td>\n",
       "      <td>[{'product_id': 'P04', 'price': 607}, {'produc...</td>\n",
       "      <td>2019-03-01 21:15:00</td>\n",
       "    </tr>\n",
       "    <tr>\n",
       "      <th>2258</th>\n",
       "      <td>C103</td>\n",
       "      <td>7.0</td>\n",
       "      <td>P01</td>\n",
       "      <td>detergent</td>\n",
       "      <td>food</td>\n",
       "      <td>[{'product_id': 'P55', 'price': 1311}, {'produ...</td>\n",
       "      <td>2019-03-01 21:40:00</td>\n",
       "    </tr>\n",
       "    <tr>\n",
       "      <th>2259</th>\n",
       "      <td>C123</td>\n",
       "      <td>7.0</td>\n",
       "      <td>P01</td>\n",
       "      <td>detergent</td>\n",
       "      <td>food</td>\n",
       "      <td>[{'product_id': 'P01', 'price': 1334}, {'produ...</td>\n",
       "      <td>2019-03-01 13:05:00</td>\n",
       "    </tr>\n",
       "    <tr>\n",
       "      <th>2260</th>\n",
       "      <td>C131</td>\n",
       "      <td>7.0</td>\n",
       "      <td>P01</td>\n",
       "      <td>detergent</td>\n",
       "      <td>food</td>\n",
       "      <td>[{'product_id': 'P28', 'price': 842}, {'produc...</td>\n",
       "      <td>2019-03-01 09:07:00</td>\n",
       "    </tr>\n",
       "    <tr>\n",
       "      <th>2261</th>\n",
       "      <td>C134</td>\n",
       "      <td>7.0</td>\n",
       "      <td>P01</td>\n",
       "      <td>detergent</td>\n",
       "      <td>food</td>\n",
       "      <td>[{'product_id': 'P33', 'price': 314}, {'produc...</td>\n",
       "      <td>2019-03-01 14:14:00</td>\n",
       "    </tr>\n",
       "  </tbody>\n",
       "</table>\n",
       "<p>2262 rows × 7 columns</p>\n",
       "</div>"
      ],
      "text/plain": [
       "     customer_id  loyalty_score product_id product_description  \\\n",
       "0             C1            7.0        P01           detergent   \n",
       "1             C2            4.0        P01           detergent   \n",
       "2             C3            8.0        P01           detergent   \n",
       "3             C4            5.0        P01           detergent   \n",
       "4             C5            7.0        P01           detergent   \n",
       "...          ...            ...        ...                 ...   \n",
       "2257        C101            7.0        P01           detergent   \n",
       "2258        C103            7.0        P01           detergent   \n",
       "2259        C123            7.0        P01           detergent   \n",
       "2260        C131            7.0        P01           detergent   \n",
       "2261        C134            7.0        P01           detergent   \n",
       "\n",
       "     product_category                                             basket  \\\n",
       "0                food             [{'product_id': 'P33', 'price': 1839}]   \n",
       "1                food             [{'product_id': 'P33', 'price': 1839}]   \n",
       "2                food             [{'product_id': 'P33', 'price': 1839}]   \n",
       "3                food             [{'product_id': 'P33', 'price': 1839}]   \n",
       "4                food             [{'product_id': 'P33', 'price': 1839}]   \n",
       "...               ...                                                ...   \n",
       "2257             food  [{'product_id': 'P04', 'price': 607}, {'produc...   \n",
       "2258             food  [{'product_id': 'P55', 'price': 1311}, {'produ...   \n",
       "2259             food  [{'product_id': 'P01', 'price': 1334}, {'produ...   \n",
       "2260             food  [{'product_id': 'P28', 'price': 842}, {'produc...   \n",
       "2261             food  [{'product_id': 'P33', 'price': 314}, {'produc...   \n",
       "\n",
       "         date_of_purchase  \n",
       "0     2018-12-13 05:06:00  \n",
       "1     2018-12-13 05:06:00  \n",
       "2     2018-12-13 05:06:00  \n",
       "3     2018-12-13 05:06:00  \n",
       "4     2018-12-13 05:06:00  \n",
       "...                   ...  \n",
       "2257  2019-03-01 21:15:00  \n",
       "2258  2019-03-01 21:40:00  \n",
       "2259  2019-03-01 13:05:00  \n",
       "2260  2019-03-01 09:07:00  \n",
       "2261  2019-03-01 14:14:00  \n",
       "\n",
       "[2262 rows x 7 columns]"
      ]
     },
     "execution_count": 7,
     "metadata": {},
     "output_type": "execute_result"
    }
   ],
   "source": [
    "# Filling Mode of the column in place of NA\n",
    "final_df_analyse.customer_id = final_df_analyse.customer_id.fillna(final_df_analyse['customer_id'].value_counts().idxmax())\n",
    "final_df_analyse.loyalty_score = final_df_analyse.loyalty_score.fillna(final_df_analyse['loyalty_score'].value_counts().idxmax())\n",
    "final_df_analyse.product_id = final_df_analyse.product_id.fillna(final_df_analyse['product_id'].value_counts().idxmax())\n",
    "final_df_analyse.product_description = final_df_analyse.product_description.fillna(final_df_analyse['product_description'].value_counts().idxmax())\n",
    "final_df_analyse.product_category = final_df_analyse.product_category.fillna(final_df_analyse['product_category'].value_counts().idxmax())\n",
    "final_df_analyse.date_of_purchase = final_df_analyse.date_of_purchase.fillna(final_df_analyse['date_of_purchase'].value_counts().idxmax())\n",
    "final_df_analyse.basket = final_df_analyse.basket.fillna(final_df_analyse['basket'].value_counts().idxmax())\n",
    "\n",
    "final_df_analyse"
   ]
  },
  {
   "cell_type": "markdown",
   "metadata": {},
   "source": [
    "### Checking Null Values Again"
   ]
  },
  {
   "cell_type": "code",
   "execution_count": 8,
   "metadata": {},
   "outputs": [
    {
     "data": {
      "text/plain": [
       "customer_id            0.0\n",
       "loyalty_score          0.0\n",
       "product_id             0.0\n",
       "product_description    0.0\n",
       "product_category       0.0\n",
       "basket                 0.0\n",
       "date_of_purchase       0.0\n",
       "dtype: float64"
      ]
     },
     "execution_count": 8,
     "metadata": {},
     "output_type": "execute_result"
    }
   ],
   "source": [
    "round(100*(final_df_analyse.isnull().sum())/len(final_df_analyse), 2)"
   ]
  },
  {
   "cell_type": "markdown",
   "metadata": {},
   "source": [
    "### Creating Final Customer Data"
   ]
  },
  {
   "cell_type": "code",
   "execution_count": 9,
   "metadata": {},
   "outputs": [
    {
     "data": {
      "text/html": [
       "<div>\n",
       "<style scoped>\n",
       "    .dataframe tbody tr th:only-of-type {\n",
       "        vertical-align: middle;\n",
       "    }\n",
       "\n",
       "    .dataframe tbody tr th {\n",
       "        vertical-align: top;\n",
       "    }\n",
       "\n",
       "    .dataframe thead th {\n",
       "        text-align: right;\n",
       "    }\n",
       "</style>\n",
       "<table border=\"1\" class=\"dataframe\">\n",
       "  <thead>\n",
       "    <tr style=\"text-align: right;\">\n",
       "      <th></th>\n",
       "      <th>customer_id</th>\n",
       "      <th>product_id</th>\n",
       "      <th>product_category</th>\n",
       "      <th>purchase_count</th>\n",
       "    </tr>\n",
       "  </thead>\n",
       "  <tbody>\n",
       "    <tr>\n",
       "      <th>0</th>\n",
       "      <td>C1</td>\n",
       "      <td>P01</td>\n",
       "      <td>food</td>\n",
       "      <td>13</td>\n",
       "    </tr>\n",
       "    <tr>\n",
       "      <th>1</th>\n",
       "      <td>C10</td>\n",
       "      <td>P01</td>\n",
       "      <td>food</td>\n",
       "      <td>10</td>\n",
       "    </tr>\n",
       "    <tr>\n",
       "      <th>2</th>\n",
       "      <td>C100</td>\n",
       "      <td>P01</td>\n",
       "      <td>food</td>\n",
       "      <td>10</td>\n",
       "    </tr>\n",
       "    <tr>\n",
       "      <th>3</th>\n",
       "      <td>C101</td>\n",
       "      <td>P01</td>\n",
       "      <td>food</td>\n",
       "      <td>13</td>\n",
       "    </tr>\n",
       "    <tr>\n",
       "      <th>4</th>\n",
       "      <td>C102</td>\n",
       "      <td>P01</td>\n",
       "      <td>food</td>\n",
       "      <td>19</td>\n",
       "    </tr>\n",
       "    <tr>\n",
       "      <th>...</th>\n",
       "      <td>...</td>\n",
       "      <td>...</td>\n",
       "      <td>...</td>\n",
       "      <td>...</td>\n",
       "    </tr>\n",
       "    <tr>\n",
       "      <th>196</th>\n",
       "      <td>C95</td>\n",
       "      <td>P01</td>\n",
       "      <td>food</td>\n",
       "      <td>19</td>\n",
       "    </tr>\n",
       "    <tr>\n",
       "      <th>197</th>\n",
       "      <td>C96</td>\n",
       "      <td>P01</td>\n",
       "      <td>food</td>\n",
       "      <td>19</td>\n",
       "    </tr>\n",
       "    <tr>\n",
       "      <th>198</th>\n",
       "      <td>C97</td>\n",
       "      <td>P01</td>\n",
       "      <td>food</td>\n",
       "      <td>13</td>\n",
       "    </tr>\n",
       "    <tr>\n",
       "      <th>199</th>\n",
       "      <td>C98</td>\n",
       "      <td>P01</td>\n",
       "      <td>food</td>\n",
       "      <td>19</td>\n",
       "    </tr>\n",
       "    <tr>\n",
       "      <th>200</th>\n",
       "      <td>C99</td>\n",
       "      <td>P01</td>\n",
       "      <td>food</td>\n",
       "      <td>23</td>\n",
       "    </tr>\n",
       "  </tbody>\n",
       "</table>\n",
       "<p>201 rows × 4 columns</p>\n",
       "</div>"
      ],
      "text/plain": [
       "    customer_id product_id product_category  purchase_count\n",
       "0            C1        P01             food              13\n",
       "1           C10        P01             food              10\n",
       "2          C100        P01             food              10\n",
       "3          C101        P01             food              13\n",
       "4          C102        P01             food              19\n",
       "..          ...        ...              ...             ...\n",
       "196         C95        P01             food              19\n",
       "197         C96        P01             food              19\n",
       "198         C97        P01             food              13\n",
       "199         C98        P01             food              19\n",
       "200         C99        P01             food              23\n",
       "\n",
       "[201 rows x 4 columns]"
      ]
     },
     "execution_count": 9,
     "metadata": {},
     "output_type": "execute_result"
    }
   ],
   "source": [
    "final_customer_data = final_df_analyse.groupby(['customer_id','product_id','product_category']).size().reset_index(name='purchase_count')\n",
    "final_customer_data"
   ]
  },
  {
   "cell_type": "code",
   "execution_count": 10,
   "metadata": {},
   "outputs": [],
   "source": [
    "final_customer_data['loyalty_score'] = final_df_analyse['loyalty_score']"
   ]
  },
  {
   "cell_type": "code",
   "execution_count": 11,
   "metadata": {},
   "outputs": [
    {
     "data": {
      "text/html": [
       "<div>\n",
       "<style scoped>\n",
       "    .dataframe tbody tr th:only-of-type {\n",
       "        vertical-align: middle;\n",
       "    }\n",
       "\n",
       "    .dataframe tbody tr th {\n",
       "        vertical-align: top;\n",
       "    }\n",
       "\n",
       "    .dataframe thead th {\n",
       "        text-align: right;\n",
       "    }\n",
       "</style>\n",
       "<table border=\"1\" class=\"dataframe\">\n",
       "  <thead>\n",
       "    <tr style=\"text-align: right;\">\n",
       "      <th></th>\n",
       "      <th>customer_id</th>\n",
       "      <th>product_id</th>\n",
       "      <th>product_category</th>\n",
       "      <th>purchase_count</th>\n",
       "      <th>loyalty_score</th>\n",
       "    </tr>\n",
       "  </thead>\n",
       "  <tbody>\n",
       "    <tr>\n",
       "      <th>0</th>\n",
       "      <td>C1</td>\n",
       "      <td>P01</td>\n",
       "      <td>food</td>\n",
       "      <td>13</td>\n",
       "      <td>7.0</td>\n",
       "    </tr>\n",
       "    <tr>\n",
       "      <th>1</th>\n",
       "      <td>C10</td>\n",
       "      <td>P01</td>\n",
       "      <td>food</td>\n",
       "      <td>10</td>\n",
       "      <td>4.0</td>\n",
       "    </tr>\n",
       "    <tr>\n",
       "      <th>2</th>\n",
       "      <td>C100</td>\n",
       "      <td>P01</td>\n",
       "      <td>food</td>\n",
       "      <td>10</td>\n",
       "      <td>8.0</td>\n",
       "    </tr>\n",
       "    <tr>\n",
       "      <th>3</th>\n",
       "      <td>C101</td>\n",
       "      <td>P01</td>\n",
       "      <td>food</td>\n",
       "      <td>13</td>\n",
       "      <td>5.0</td>\n",
       "    </tr>\n",
       "    <tr>\n",
       "      <th>4</th>\n",
       "      <td>C102</td>\n",
       "      <td>P01</td>\n",
       "      <td>food</td>\n",
       "      <td>19</td>\n",
       "      <td>7.0</td>\n",
       "    </tr>\n",
       "  </tbody>\n",
       "</table>\n",
       "</div>"
      ],
      "text/plain": [
       "  customer_id product_id product_category  purchase_count  loyalty_score\n",
       "0          C1        P01             food              13            7.0\n",
       "1         C10        P01             food              10            4.0\n",
       "2        C100        P01             food              10            8.0\n",
       "3        C101        P01             food              13            5.0\n",
       "4        C102        P01             food              19            7.0"
      ]
     },
     "execution_count": 11,
     "metadata": {},
     "output_type": "execute_result"
    }
   ],
   "source": [
    "final_customer_data.head()"
   ]
  },
  {
   "cell_type": "markdown",
   "metadata": {},
   "source": [
    "### Converting DataFrame to Required JSON File`"
   ]
  },
  {
   "cell_type": "code",
   "execution_count": 12,
   "metadata": {},
   "outputs": [],
   "source": [
    "final_customer_data.to_json('./2.Final_Customer_Data.json',orient='records')"
   ]
  },
  {
   "cell_type": "code",
   "execution_count": null,
   "metadata": {},
   "outputs": [],
   "source": []
  }
 ],
 "metadata": {
  "kernelspec": {
   "display_name": "Python 3 (ipykernel)",
   "language": "python",
   "name": "python3"
  },
  "language_info": {
   "codemirror_mode": {
    "name": "ipython",
    "version": 3
   },
   "file_extension": ".py",
   "mimetype": "text/x-python",
   "name": "python",
   "nbconvert_exporter": "python",
   "pygments_lexer": "ipython3",
   "version": "3.10.5"
  }
 },
 "nbformat": 4,
 "nbformat_minor": 4
}
