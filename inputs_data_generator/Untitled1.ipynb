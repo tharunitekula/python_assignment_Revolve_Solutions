{
 "cells": [
  {
   "cell_type": "code",
   "execution_count": 1,
   "id": "35c8b9f8",
   "metadata": {},
   "outputs": [],
   "source": [
    "\"We Will Generate Final Required JSON File Here\"\n",
    "\"Requirement :\"\n",
    "\"Customer Shopping Patterns : The task involves developing a data pipeline to complete the user story above using sample data sources that will be provided.\n",
    "\n",
    "Our client is a major high street retailer that handles millions of transactions each day. Their data science team has reached out to our data engineering team >requesting we pre-process some of the data for them at scale so that they can make better use of it in their downstream algorithms. They would like us to deliver >this data weekly.\""
   ]
  },
  {
   "cell_type": "code",
   "execution_count": null,
   "id": "d7a7ad6d",
   "metadata": {},
   "outputs": [],
   "source": []
  }
 ],
 "metadata": {
  "kernelspec": {
   "display_name": "Python 3 (ipykernel)",
   "language": "python",
   "name": "python3"
  },
  "language_info": {
   "codemirror_mode": {
    "name": "ipython",
    "version": 3
   },
   "file_extension": ".py",
   "mimetype": "text/x-python",
   "name": "python",
   "nbconvert_exporter": "python",
   "pygments_lexer": "ipython3",
   "version": "3.10.9"
  }
 },
 "nbformat": 4,
 "nbformat_minor": 5
}
